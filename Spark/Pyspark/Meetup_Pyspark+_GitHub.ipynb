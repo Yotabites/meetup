{
 "cells": [
  {
   "cell_type": "markdown",
   "metadata": {
    "extensions": {
     "jupyter_dashboards": {
      "version": 1,
      "views": {
       "grid_default": {
        "col": 0,
        "height": 4,
        "hidden": false,
        "row": 0,
        "width": 4
       },
       "report_default": {
        "hidden": false
       }
      }
     }
    },
    "slideshow": {
     "slide_type": "slide"
    }
   },
   "source": [
    "\n",
    "<h1><center>Pyspark</center></h1>"
   ]
  },
  {
   "cell_type": "code",
   "execution_count": 1,
   "metadata": {
    "code_folding": [],
    "extensions": {
     "jupyter_dashboards": {
      "version": 1,
      "views": {
       "grid_default": {
        "col": 4,
        "height": 4,
        "hidden": false,
        "row": 0,
        "width": 4
       },
       "report_default": {
        "hidden": false
       }
      }
     }
    },
    "slideshow": {
     "slide_type": "-"
    }
   },
   "outputs": [],
   "source": [
    "# Basic Imports # \n",
    "\n",
    "from pyspark import SparkContext\n",
    "from pyspark.streaming import StreamingContext\n",
    "from operator import add\n",
    "import random, warnings, sys, time\n",
    "from __future__ import print_function\n",
    "warnings.filterwarnings(\"ignore\")\n",
    "from wordcloud import WordCloud, STOPWORDS\n",
    "from datetime import datetime, tzinfo, timedelta"
   ]
  },
  {
   "cell_type": "code",
   "execution_count": 2,
   "metadata": {
    "extensions": {
     "jupyter_dashboards": {
      "version": 1,
      "views": {
       "grid_default": {
        "col": 0,
        "height": 8,
        "hidden": false,
        "row": 8,
        "width": 4
       },
       "report_default": {
        "hidden": false
       }
      }
     }
    },
    "slideshow": {
     "slide_type": "subslide"
    }
   },
   "outputs": [
    {
     "data": {
      "text/html": [
       "\n",
       "        <div>\n",
       "            <p><b>SparkContext</b></p>\n",
       "\n",
       "            <p><a href=\"http://172.16.18.46:4040\">Spark UI</a></p>\n",
       "\n",
       "            <dl>\n",
       "              <dt>Version</dt>\n",
       "                <dd><code>v2.2.0</code></dd>\n",
       "              <dt>Master</dt>\n",
       "                <dd><code>local[*]</code></dd>\n",
       "              <dt>AppName</dt>\n",
       "                <dd><code>PySparkShell</code></dd>\n",
       "            </dl>\n",
       "        </div>\n",
       "        "
      ],
      "text/plain": [
       "<SparkContext master=local[*] appName=PySparkShell>"
      ]
     },
     "execution_count": 2,
     "metadata": {},
     "output_type": "execute_result"
    }
   ],
   "source": [
    "sc"
   ]
  },
  {
   "cell_type": "code",
   "execution_count": 3,
   "metadata": {
    "extensions": {
     "jupyter_dashboards": {
      "version": 1,
      "views": {
       "grid_default": {
        "hidden": true
       },
       "report_default": {
        "hidden": true
       }
      }
     }
    },
    "slideshow": {
     "slide_type": "fragment"
    }
   },
   "outputs": [],
   "source": [
    "rdd = sc.textFile(\"$PATH/meetup.csv\")"
   ]
  },
  {
   "cell_type": "markdown",
   "metadata": {
    "extensions": {
     "jupyter_dashboards": {
      "version": 1,
      "views": {
       "grid_default": {
        "col": 8,
        "height": 4,
        "hidden": false,
        "row": 8,
        "width": 4
       },
       "report_default": {
        "hidden": false
       }
      }
     }
    },
    "slideshow": {
     "slide_type": "slide"
    }
   },
   "source": [
    "<br>\n",
    "### Another way to create an rdd\n"
   ]
  },
  {
   "cell_type": "code",
   "execution_count": 4,
   "metadata": {
    "extensions": {
     "jupyter_dashboards": {
      "version": 1,
      "views": {
       "grid_default": {
        "hidden": true
       },
       "report_default": {
        "hidden": true
       }
      }
     }
    },
    "slideshow": {
     "slide_type": "fragment"
    }
   },
   "outputs": [],
   "source": [
    "rdd1 = sc.parallelize([1,2,3,4,5,6,7,8,9,10])\n"
   ]
  },
  {
   "cell_type": "markdown",
   "metadata": {},
   "source": [
    "### Sum the squares of the integers from 1 to 10."
   ]
  },
  {
   "cell_type": "code",
   "execution_count": 5,
   "metadata": {},
   "outputs": [
    {
     "data": {
      "text/plain": [
       "385"
      ]
     },
     "execution_count": 5,
     "metadata": {},
     "output_type": "execute_result"
    }
   ],
   "source": [
    "rdd1.map(lambda x: x**2).sum()"
   ]
  },
  {
   "cell_type": "markdown",
   "metadata": {
    "extensions": {
     "jupyter_dashboards": {
      "version": 1,
      "views": {
       "grid_default": {
        "col": 4,
        "height": 4,
        "hidden": false,
        "row": 12,
        "width": 4
       },
       "report_default": {
        "hidden": false
       }
      }
     }
    },
    "slideshow": {
     "slide_type": "slide"
    }
   },
   "source": [
    "<br>\n",
    "### Display all the elements in the rdd using collect()\n",
    "Not a good choice if you have huge dataset"
   ]
  },
  {
   "cell_type": "code",
   "execution_count": 6,
   "metadata": {
    "extensions": {
     "jupyter_dashboards": {
      "version": 1,
      "views": {
       "grid_default": {
        "col": 8,
        "height": 12,
        "hidden": false,
        "row": 12,
        "width": 4
       },
       "report_default": {
        "hidden": false
       }
      }
     }
    },
    "slideshow": {
     "slide_type": "subslide"
    }
   },
   "outputs": [
    {
     "data": {
      "text/plain": [
       "[1, 2, 3, 4, 5, 6, 7, 8, 9, 10]"
      ]
     },
     "execution_count": 6,
     "metadata": {},
     "output_type": "execute_result"
    }
   ],
   "source": [
    "rdd1.collect()"
   ]
  },
  {
   "cell_type": "markdown",
   "metadata": {
    "extensions": {
     "jupyter_dashboards": {
      "version": 1,
      "views": {
       "grid_default": {
        "col": 8,
        "height": 4,
        "hidden": false,
        "row": 56,
        "width": 4
       },
       "report_default": {
        "hidden": false
       }
      }
     }
    },
    "slideshow": {
     "slide_type": "slide"
    }
   },
   "source": [
    "### `take(n)`\n",
    "Instead use take which gives you n elements"
   ]
  },
  {
   "cell_type": "code",
   "execution_count": 7,
   "metadata": {
    "extensions": {
     "jupyter_dashboards": {
      "version": 1,
      "views": {
       "grid_default": {
        "col": 8,
        "height": 6,
        "hidden": false,
        "row": 60,
        "width": 4
       },
       "report_default": {
        "hidden": false
       }
      }
     }
    },
    "slideshow": {
     "slide_type": "fragment"
    }
   },
   "outputs": [
    {
     "data": {
      "text/plain": [
       "['eventid,groupurlname,grouplon,venue.name,groupcity,eventtime,title,eventname,venue.lon,id,visibility,groupid,rsvp_id,groupname,grouplat,_version_,response,venueid,guests,groupstate,venue.lat,groupcountry,membername,memberid']"
      ]
     },
     "execution_count": 7,
     "metadata": {},
     "output_type": "execute_result"
    }
   ],
   "source": [
    "rdd.take(1)"
   ]
  },
  {
   "cell_type": "markdown",
   "metadata": {
    "extensions": {
     "jupyter_dashboards": {
      "version": 1,
      "views": {
       "grid_default": {
        "col": 0,
        "height": 4,
        "hidden": false,
        "row": 16,
        "width": 4
       },
       "report_default": {
        "hidden": false
       }
      }
     }
    }
   },
   "source": [
    "### Counting the number of elements in the file"
   ]
  },
  {
   "cell_type": "code",
   "execution_count": 8,
   "metadata": {
    "extensions": {
     "jupyter_dashboards": {
      "version": 1,
      "views": {
       "grid_default": {
        "col": 4,
        "height": 4,
        "hidden": false,
        "row": 16,
        "width": 4
       },
       "report_default": {
        "hidden": false
       }
      }
     }
    }
   },
   "outputs": [
    {
     "data": {
      "text/plain": [
       "10000"
      ]
     },
     "execution_count": 8,
     "metadata": {},
     "output_type": "execute_result"
    }
   ],
   "source": [
    "rdd.count()"
   ]
  },
  {
   "cell_type": "markdown",
   "metadata": {
    "extensions": {
     "jupyter_dashboards": {
      "version": 1,
      "views": {
       "grid_default": {
        "col": 0,
        "height": 4,
        "hidden": false,
        "row": 24,
        "width": 12
       },
       "report_default": {
        "hidden": false
       }
      }
     }
    }
   },
   "source": [
    "RDDs support two types of operations: transformations, which create a new dataset from an existing one, and actions, which return a value to the driver program after running a computation on the dataset. \n",
    "We just performed atwo action on the **`rdd`** i.e **count** and **collect**"
   ]
  },
  {
   "cell_type": "markdown",
   "metadata": {
    "extensions": {
     "jupyter_dashboards": {
      "version": 1,
      "views": {
       "grid_default": {
        "col": 0,
        "height": 4,
        "hidden": false,
        "row": 20,
        "width": 4
       },
       "report_default": {
        "hidden": false
       }
      }
     }
    }
   },
   "source": [
    "## Transformations "
   ]
  },
  {
   "cell_type": "markdown",
   "metadata": {
    "extensions": {
     "jupyter_dashboards": {
      "version": 1,
      "views": {
       "grid_default": {
        "col": 4,
        "height": 4,
        "hidden": false,
        "row": 28,
        "width": 4
       },
       "report_default": {
        "hidden": false
       }
      }
     }
    }
   },
   "source": [
    "### `map`"
   ]
  },
  {
   "cell_type": "code",
   "execution_count": 9,
   "metadata": {
    "extensions": {
     "jupyter_dashboards": {
      "version": 1,
      "views": {
       "grid_default": {
        "col": 8,
        "height": 4,
        "hidden": false,
        "row": 28,
        "width": 4
       },
       "report_default": {
        "hidden": false
       }
      }
     }
    }
   },
   "outputs": [
    {
     "data": {
      "text/plain": [
       "[(['eventid',\n",
       "   'groupurlname',\n",
       "   'grouplon',\n",
       "   'venue.name',\n",
       "   'groupcity',\n",
       "   'eventtime',\n",
       "   'title',\n",
       "   'eventname',\n",
       "   'venue.lon',\n",
       "   'id',\n",
       "   'visibility',\n",
       "   'groupid',\n",
       "   'rsvp_id',\n",
       "   'groupname',\n",
       "   'grouplat',\n",
       "   '_version_',\n",
       "   'response',\n",
       "   'venueid',\n",
       "   'guests',\n",
       "   'groupstate',\n",
       "   'venue.lat',\n",
       "   'groupcountry',\n",
       "   'membername',\n",
       "   'memberid'],\n",
       "  'groupstate')]"
      ]
     },
     "execution_count": 9,
     "metadata": {},
     "output_type": "execute_result"
    }
   ],
   "source": [
    "map_rdd = rdd.map(lambda l:l.split(\",\")).map(lambda l:(l,l[19]))\n",
    "map_rdd.take(1)"
   ]
  },
  {
   "cell_type": "markdown",
   "metadata": {
    "extensions": {
     "jupyter_dashboards": {
      "version": 1,
      "views": {
       "grid_default": {
        "col": 0,
        "height": 4,
        "hidden": false,
        "row": 32,
        "width": 4
       },
       "report_default": {
        "hidden": false
       }
      }
     }
    }
   },
   "source": [
    "### `flatMap`"
   ]
  },
  {
   "cell_type": "code",
   "execution_count": 10,
   "metadata": {
    "extensions": {
     "jupyter_dashboards": {
      "version": 1,
      "views": {
       "grid_default": {
        "col": 4,
        "height": 4,
        "hidden": false,
        "row": 32,
        "width": 4
       },
       "report_default": {
        "hidden": false
       }
      }
     }
    }
   },
   "outputs": [
    {
     "data": {
      "text/plain": [
       "['eventid',\n",
       " 'groupurlname',\n",
       " 'grouplon',\n",
       " 'venue.name',\n",
       " 'groupcity',\n",
       " 'eventtime',\n",
       " 'title',\n",
       " 'eventname',\n",
       " 'venue.lon',\n",
       " 'id',\n",
       " 'visibility',\n",
       " 'groupid',\n",
       " 'rsvp_id',\n",
       " 'groupname',\n",
       " 'grouplat']"
      ]
     },
     "execution_count": 10,
     "metadata": {},
     "output_type": "execute_result"
    }
   ],
   "source": [
    "flatmap_rdd = rdd.flatMap(lambda l:l.split(\",\"))\n",
    "flatmap_rdd.take(15)"
   ]
  },
  {
   "cell_type": "markdown",
   "metadata": {
    "extensions": {
     "jupyter_dashboards": {
      "version": 1,
      "views": {
       "grid_default": {
        "col": 4,
        "height": 4,
        "hidden": false,
        "row": 20,
        "width": 4
       },
       "report_default": {
        "hidden": false
       }
      }
     }
    }
   },
   "source": [
    "### `filter`"
   ]
  },
  {
   "cell_type": "code",
   "execution_count": 11,
   "metadata": {
    "extensions": {
     "jupyter_dashboards": {
      "version": 1,
      "views": {
       "grid_default": {
        "col": 0,
        "height": 4,
        "hidden": false,
        "row": 28,
        "width": 4
       },
       "report_default": {
        "hidden": false
       }
      }
     }
    }
   },
   "outputs": [
    {
     "data": {
      "text/plain": [
       "1852"
      ]
     },
     "execution_count": 11,
     "metadata": {},
     "output_type": "execute_result"
    }
   ],
   "source": [
    "filter_rdd = flatmap_rdd.filter(lambda l: l == \"CA\")\n",
    "filter_rdd.count()"
   ]
  },
  {
   "cell_type": "markdown",
   "metadata": {
    "extensions": {
     "jupyter_dashboards": {
      "version": 1,
      "views": {
       "grid_default": {
        "col": 8,
        "height": 4,
        "hidden": false,
        "row": 32,
        "width": 4
       },
       "report_default": {
        "hidden": false
       }
      }
     }
    }
   },
   "source": [
    "### `reduceBykey`"
   ]
  },
  {
   "cell_type": "code",
   "execution_count": 12,
   "metadata": {
    "extensions": {
     "jupyter_dashboards": {
      "version": 1,
      "views": {
       "grid_default": {
        "col": 0,
        "height": 5,
        "hidden": false,
        "row": 36,
        "width": 4
       },
       "report_default": {
        "hidden": false
       }
      }
     }
    }
   },
   "outputs": [
    {
     "data": {
      "text/plain": [
       "[('eventid', 1), ('grouplon', 1)]"
      ]
     },
     "execution_count": 12,
     "metadata": {},
     "output_type": "execute_result"
    }
   ],
   "source": [
    "from operator import add\n",
    "add_func =flatmap_rdd.map(lambda word: (word,1)).reduceByKey(add)\n",
    "add_func.take(2)"
   ]
  },
  {
   "cell_type": "markdown",
   "metadata": {
    "extensions": {
     "jupyter_dashboards": {
      "version": 1,
      "views": {
       "grid_default": {
        "col": 4,
        "height": 4,
        "hidden": false,
        "row": 36,
        "width": 4
       },
       "report_default": {
        "hidden": false
       }
      }
     }
    }
   },
   "source": [
    "### WordCount"
   ]
  },
  {
   "cell_type": "code",
   "execution_count": 13,
   "metadata": {
    "extensions": {
     "jupyter_dashboards": {
      "version": 1,
      "views": {
       "grid_default": {
        "hidden": true
       },
       "report_default": {
        "hidden": true
       }
      }
     }
    }
   },
   "outputs": [],
   "source": [
    "counts = flatmap_rdd.flatMap(lambda x:x.split(\" \"))\\\n",
    "        .map(lambda x: (x,1))\\\n",
    "        .reduceByKey(lambda x,y: x+y)"
   ]
  },
  {
   "cell_type": "code",
   "execution_count": 14,
   "metadata": {
    "extensions": {
     "jupyter_dashboards": {
      "version": 1,
      "views": {
       "grid_default": {
        "col": 8,
        "height": 4,
        "hidden": false,
        "row": 36,
        "width": 4
       },
       "report_default": {
        "hidden": false
       }
      }
     }
    }
   },
   "outputs": [
    {
     "data": {
      "text/plain": [
       "[('eventid', 1),\n",
       " ('grouplon', 1),\n",
       " ('venue.name', 1),\n",
       " ('groupcity', 1),\n",
       " ('eventtime', 1)]"
      ]
     },
     "execution_count": 14,
     "metadata": {},
     "output_type": "execute_result"
    }
   ],
   "source": [
    "counts.take(5)"
   ]
  },
  {
   "cell_type": "markdown",
   "metadata": {
    "extensions": {
     "jupyter_dashboards": {
      "version": 1,
      "views": {
       "grid_default": {
        "col": 4,
        "height": 4,
        "hidden": false,
        "row": 40,
        "width": 4
       },
       "report_default": {
        "hidden": false
       }
      }
     }
    }
   },
   "source": [
    "### `sortByKey( ascending=True|False )`"
   ]
  },
  {
   "cell_type": "code",
   "execution_count": 15,
   "metadata": {
    "extensions": {
     "jupyter_dashboards": {
      "version": 1,
      "views": {
       "grid_default": {
        "col": 8,
        "height": 4,
        "hidden": false,
        "row": 40,
        "width": 4
       },
       "report_default": {
        "hidden": false
       }
      }
     }
    }
   },
   "outputs": [
    {
     "data": {
      "text/plain": [
       "[('🥗🍸Picnic', 1), ('🙏🏽\"', 2), ('😋', 1), ('🔺', 5), ('🔷', 2)]"
      ]
     },
     "execution_count": 15,
     "metadata": {},
     "output_type": "execute_result"
    }
   ],
   "source": [
    "counts.sortByKey(ascending=False).take(5)"
   ]
  },
  {
   "cell_type": "code",
   "execution_count": 16,
   "metadata": {
    "extensions": {
     "jupyter_dashboards": {
      "version": 1,
      "views": {
       "grid_default": {
        "col": 0,
        "height": 4,
        "hidden": false,
        "row": 41,
        "width": 4
       },
       "report_default": {
        "hidden": false
       }
      }
     }
    }
   },
   "outputs": [
    {
     "data": {
      "text/plain": [
       "[('', 13185), ('public', 10016), ('us', 9266), ('0', 9249), ('yes', 7732)]"
      ]
     },
     "execution_count": 16,
     "metadata": {},
     "output_type": "execute_result"
    }
   ],
   "source": [
    "counts.sortBy(lambda value: value[1], ascending=False).take(5)"
   ]
  },
  {
   "cell_type": "markdown",
   "metadata": {
    "extensions": {
     "jupyter_dashboards": {
      "version": 1,
      "views": {
       "grid_default": {
        "col": 4,
        "height": 4,
        "hidden": false,
        "row": 64,
        "width": 4
       },
       "report_default": {
        "hidden": false
       }
      }
     }
    }
   },
   "source": [
    "<br>\n",
    "### Pi Calculation"
   ]
  },
  {
   "cell_type": "code",
   "execution_count": 17,
   "metadata": {
    "extensions": {
     "jupyter_dashboards": {
      "version": 1,
      "views": {
       "grid_default": {
        "col": 8,
        "height": 4,
        "hidden": false,
        "row": 66,
        "width": 4
       },
       "report_default": {
        "hidden": false
       }
      }
     }
    }
   },
   "outputs": [
    {
     "name": "stdout",
     "output_type": "stream",
     "text": [
      "Pi is roughly 3.142291\n",
      "CPU times: user 8 ms, sys: 0 ns, total: 8 ms\n",
      "Wall time: 1.19 s\n"
     ]
    }
   ],
   "source": [
    "%%time\n",
    "import random\n",
    "\n",
    "def inside(p):\n",
    "    x, y = random.random(), random.random()\n",
    "    return x*x + y*y < 1\n",
    "\n",
    "count = sc.parallelize(range(0, 10000000)) \\\n",
    "             .filter(inside).count()\n",
    "print(\"Pi is roughly %f\" % (4.0 * count / 10000000))"
   ]
  },
  {
   "cell_type": "markdown",
   "metadata": {
    "extensions": {
     "jupyter_dashboards": {
      "version": 1,
      "views": {
       "grid_default": {
        "col": 4,
        "height": 4,
        "hidden": false,
        "row": 44,
        "width": 4
       },
       "report_default": {
        "hidden": false
       }
      }
     }
    }
   },
   "source": [
    "# Actions"
   ]
  },
  {
   "cell_type": "markdown",
   "metadata": {
    "extensions": {
     "jupyter_dashboards": {
      "version": 1,
      "views": {
       "grid_default": {
        "col": 8,
        "height": 4,
        "hidden": false,
        "row": 44,
        "width": 4
       },
       "report_default": {
        "hidden": false
       }
      }
     }
    }
   },
   "source": [
    "### `countByKey`"
   ]
  },
  {
   "cell_type": "code",
   "execution_count": 43,
   "metadata": {},
   "outputs": [
    {
     "data": {
      "text/plain": [
       "[('a', 2), ('b', 1)]"
      ]
     },
     "execution_count": 43,
     "metadata": {},
     "output_type": "execute_result"
    }
   ],
   "source": [
    "rdd = sc.parallelize([(\"a\", 1), (\"b\", 1), (\"a\", 1)])\n",
    "sorted(rdd.countByKey().items())"
   ]
  },
  {
   "cell_type": "markdown",
   "metadata": {
    "extensions": {
     "jupyter_dashboards": {
      "version": 1,
      "views": {
       "grid_default": {
        "col": 4,
        "height": 4,
        "hidden": false,
        "row": 48,
        "width": 4
       },
       "report_default": {
        "hidden": false
       }
      }
     }
    }
   },
   "source": [
    "### `first()`"
   ]
  },
  {
   "cell_type": "code",
   "execution_count": 19,
   "metadata": {
    "extensions": {
     "jupyter_dashboards": {
      "version": 1,
      "views": {
       "grid_default": {
        "col": 8,
        "height": 4,
        "hidden": false,
        "row": 48,
        "width": 4
       },
       "report_default": {
        "hidden": false
       }
      }
     }
    }
   },
   "outputs": [
    {
     "data": {
      "text/plain": [
       "('eventid', 1)"
      ]
     },
     "execution_count": 19,
     "metadata": {},
     "output_type": "execute_result"
    }
   ],
   "source": [
    "counts.first()"
   ]
  },
  {
   "cell_type": "markdown",
   "metadata": {
    "extensions": {
     "jupyter_dashboards": {
      "version": 1,
      "views": {
       "grid_default": {
        "col": 0,
        "height": 4,
        "hidden": false,
        "row": 49,
        "width": 4
       },
       "report_default": {
        "hidden": false
       }
      }
     }
    }
   },
   "source": [
    "### `takeOrdered(n, [ordering])`"
   ]
  },
  {
   "cell_type": "code",
   "execution_count": 20,
   "metadata": {
    "extensions": {
     "jupyter_dashboards": {
      "version": 1,
      "views": {
       "grid_default": {
        "col": 4,
        "height": 4,
        "hidden": false,
        "row": 52,
        "width": 4
       },
       "report_default": {
        "hidden": false
       }
      }
     }
    }
   },
   "outputs": [
    {
     "data": {
      "text/plain": [
       "[('', 13185), ('!', 16), ('!!', 9), ('!!!', 6), ('!!!!', 1)]"
      ]
     },
     "execution_count": 20,
     "metadata": {},
     "output_type": "execute_result"
    }
   ],
   "source": [
    "counts.takeOrdered(5)"
   ]
  },
  {
   "cell_type": "markdown",
   "metadata": {
    "extensions": {
     "jupyter_dashboards": {
      "version": 1,
      "views": {
       "grid_default": {
        "col": 4,
        "height": 4,
        "hidden": false,
        "row": 68,
        "width": 4
       },
       "report_default": {
        "hidden": false
       }
      }
     }
    }
   },
   "source": [
    "### `top(n)`"
   ]
  },
  {
   "cell_type": "code",
   "execution_count": 21,
   "metadata": {
    "extensions": {
     "jupyter_dashboards": {
      "version": 1,
      "views": {
       "grid_default": {
        "col": 8,
        "height": 4,
        "hidden": false,
        "row": 70,
        "width": 4
       },
       "report_default": {
        "hidden": false
       }
      }
     }
    }
   },
   "outputs": [
    {
     "data": {
      "text/plain": [
       "[('🥗🍸Picnic', 1), ('🙏🏽\"', 2), ('😋', 1), ('🔺', 5), ('🔷', 2)]"
      ]
     },
     "execution_count": 21,
     "metadata": {},
     "output_type": "execute_result"
    }
   ],
   "source": [
    "counts.top(5)"
   ]
  },
  {
   "cell_type": "markdown",
   "metadata": {
    "extensions": {
     "jupyter_dashboards": {
      "version": 1,
      "views": {
       "grid_default": {
        "col": 8,
        "height": 4,
        "hidden": false,
        "row": 52,
        "width": 4
       },
       "report_default": {
        "hidden": false
       }
      }
     }
    }
   },
   "source": [
    "### `saveAsTextFile(path)`"
   ]
  },
  {
   "cell_type": "code",
   "execution_count": 22,
   "metadata": {
    "extensions": {
     "jupyter_dashboards": {
      "version": 1,
      "views": {
       "grid_default": {
        "hidden": true
       },
       "report_default": {
        "hidden": true
       }
      }
     }
    }
   },
   "outputs": [],
   "source": [
    "counts.saveAsTextFile(\"$PATH/SampleTextOutput\")"
   ]
  },
  {
   "cell_type": "markdown",
   "metadata": {
    "extensions": {
     "jupyter_dashboards": {
      "version": 1,
      "views": {
       "grid_default": {
        "col": 0,
        "height": 4,
        "hidden": false,
        "row": 53,
        "width": 4
       },
       "report_default": {
        "hidden": false
       }
      }
     }
    }
   },
   "source": [
    "### `saveAsSequenceFile(path)`"
   ]
  },
  {
   "cell_type": "code",
   "execution_count": 23,
   "metadata": {
    "extensions": {
     "jupyter_dashboards": {
      "version": 1,
      "views": {
       "grid_default": {
        "hidden": true
       },
       "report_default": {
        "hidden": true
       }
      }
     }
    }
   },
   "outputs": [],
   "source": [
    "counts.saveAsSequenceFile(\"$PATH/SampleSequenceOutput\")"
   ]
  },
  {
   "cell_type": "markdown",
   "metadata": {
    "extensions": {
     "jupyter_dashboards": {
      "version": 1,
      "views": {
       "grid_default": {
        "col": 0,
        "height": 4,
        "hidden": false,
        "row": 71,
        "width": 4
       },
       "report_default": {
        "hidden": false
       }
      }
     }
    }
   },
   "source": [
    "<br>\n",
    "<br>"
   ]
  },
  {
   "cell_type": "markdown",
   "metadata": {
    "extensions": {
     "jupyter_dashboards": {
      "version": 1,
      "views": {
       "grid_default": {
        "col": 0,
        "height": 4,
        "hidden": false,
        "row": 57,
        "width": 4
       },
       "report_default": {
        "hidden": false
       }
      }
     }
    }
   },
   "source": [
    "## DataFrames "
   ]
  },
  {
   "cell_type": "markdown",
   "metadata": {
    "extensions": {
     "jupyter_dashboards": {
      "version": 1,
      "views": {
       "grid_default": {
        "col": 4,
        "height": 4,
        "hidden": false,
        "row": 72,
        "width": 4
       },
       "report_default": {
        "hidden": false
       }
      }
     }
    }
   },
   "source": [
    "### Read the CSV File"
   ]
  },
  {
   "cell_type": "code",
   "execution_count": 24,
   "metadata": {
    "extensions": {
     "jupyter_dashboards": {
      "version": 1,
      "views": {
       "grid_default": {
        "col": 8,
        "height": 4,
        "hidden": false,
        "row": 74,
        "width": 4
       },
       "report_default": {
        "hidden": true
       }
      }
     }
    }
   },
   "outputs": [],
   "source": [
    "df = spark.read.csv('$PATH/meetup.csv',header=True,inferSchema=True)"
   ]
  },
  {
   "cell_type": "code",
   "execution_count": 25,
   "metadata": {},
   "outputs": [],
   "source": [
    "df = df.withColumn('date', df['eventtime'].cast('date'))"
   ]
  },
  {
   "cell_type": "markdown",
   "metadata": {
    "extensions": {
     "jupyter_dashboards": {
      "version": 1,
      "views": {
       "grid_default": {
        "col": 0,
        "height": 4,
        "hidden": false,
        "row": 75,
        "width": 4
       },
       "report_default": {
        "hidden": false
       }
      }
     }
    }
   },
   "source": [
    "### `printSchema`"
   ]
  },
  {
   "cell_type": "code",
   "execution_count": 26,
   "metadata": {
    "extensions": {
     "jupyter_dashboards": {
      "version": 1,
      "views": {
       "grid_default": {
        "col": 4,
        "height": 32,
        "hidden": false,
        "row": 76,
        "width": 4
       },
       "report_default": {
        "hidden": false
       }
      }
     }
    }
   },
   "outputs": [
    {
     "name": "stdout",
     "output_type": "stream",
     "text": [
      "root\n",
      " |-- eventid: string (nullable = true)\n",
      " |-- groupurlname: string (nullable = true)\n",
      " |-- grouplon: double (nullable = true)\n",
      " |-- venue.name: string (nullable = true)\n",
      " |-- groupcity: string (nullable = true)\n",
      " |-- eventtime: timestamp (nullable = true)\n",
      " |-- title: string (nullable = true)\n",
      " |-- eventname: string (nullable = true)\n",
      " |-- venue.lon: string (nullable = true)\n",
      " |-- id: string (nullable = true)\n",
      " |-- visibility: string (nullable = true)\n",
      " |-- groupid: string (nullable = true)\n",
      " |-- rsvp_id: string (nullable = true)\n",
      " |-- groupname: string (nullable = true)\n",
      " |-- grouplat: string (nullable = true)\n",
      " |-- _version_: string (nullable = true)\n",
      " |-- response: string (nullable = true)\n",
      " |-- venueid: string (nullable = true)\n",
      " |-- guests: string (nullable = true)\n",
      " |-- groupstate: string (nullable = true)\n",
      " |-- venue.lat: string (nullable = true)\n",
      " |-- groupcountry: string (nullable = true)\n",
      " |-- membername: string (nullable = true)\n",
      " |-- memberid: string (nullable = true)\n",
      " |-- date: date (nullable = true)\n",
      "\n"
     ]
    }
   ],
   "source": [
    "df.printSchema()"
   ]
  },
  {
   "cell_type": "markdown",
   "metadata": {
    "extensions": {
     "jupyter_dashboards": {
      "version": 1,
      "views": {
       "grid_default": {
        "col": 8,
        "height": 4,
        "hidden": false,
        "row": 78,
        "width": 4
       },
       "report_default": {
        "hidden": false
       }
      }
     }
    }
   },
   "source": [
    "<br>\n",
    "### `show()` - Display the dataframe "
   ]
  },
  {
   "cell_type": "code",
   "execution_count": 27,
   "metadata": {
    "extensions": {
     "jupyter_dashboards": {
      "version": 1,
      "views": {
       "grid_default": {
        "col": 0,
        "height": 57,
        "hidden": false,
        "row": 79,
        "width": 4
       },
       "report_default": {
        "hidden": false
       }
      }
     }
    }
   },
   "outputs": [
    {
     "name": "stdout",
     "output_type": "stream",
     "text": [
      "+------------+--------------------+--------+--------------------+------------------+-------------------+-----+--------------------+-----------+--------------------+----------+--------+----------+--------------------+---------+-------------------+-------------------+--------+--------+----------+---------+------------+-------------------+-------------+----------+\n",
      "|     eventid|        groupurlname|grouplon|          venue.name|         groupcity|          eventtime|title|           eventname|  venue.lon|                  id|visibility| groupid|   rsvp_id|           groupname| grouplat|          _version_|           response| venueid|  guests|groupstate|venue.lat|groupcountry|         membername|     memberid|      date|\n",
      "+------------+--------------------+--------+--------------------+------------------+-------------------+-----+--------------------+-----------+--------------------+----------+--------+----------+--------------------+---------+-------------------+-------------------+--------+--------+----------+---------+------------+-------------------+-------------+----------+\n",
      "|   242177353|             SSNG-NC| -117.05|Oakmont of Escond...|         Escondido|2017-10-26 13:30:00| null|NC SSNG October L...|-117.055077|615a9da1-7ecb-49b...|    public| 1422350|1684109262|NC Senior Special...|    33.14|1575912329383510016|                yes| 7975182|       0|        CA|33.083012|          us|             Edward|     93108362|2017-10-26|\n",
      "|   240995394|BEYOUTIFUL-BLOOMS...|  -79.68|Joshua Creek Art ...|          Oakville|2017-08-22 09:00:00| null|Synchronicity Sto...| -79.727997|fcfd0492-2c43-4cb...|    public|22217766|1684109264|BEYOUTIFUL BLOOMS...|    43.51|1575912329388752896|                yes|24438054|       0|        ON|43.509308|          ca|            Jax Fed|    228654510|2017-08-22|\n",
      "|nvwdnnywlbwb|lehighvalleybiker...|  -75.24|    Genesis Bicycles|            Easton|2017-08-17 17:00:00| null|      Ice Cream Ride| -75.206215|33f212dd-9c11-4d6...|    public| 3724852|1684109125|Genesis Bicycles ...|    40.69|1575912329388752897|                yes| 6840782|       0|        PA|40.694305|          us|       John Koerber|    230799270|2017-08-17|\n",
      "|   242554897|Slow-and-Steady-H...| -114.08|     Shouldice Arena|           Calgary|2017-08-19 08:00:00| null|Mount Lougheed (S...| -114.16538|ac679ebb-2fe5-48d...|    public| 2431562|1684109271|Slow and Steady H...|    51.01|1575912329388752898|                yes|  554993|       0|        AB| 51.07109|          ca|         Jacob Hall|    227736273|2017-08-19|\n",
      "|ghpvkmywmbsb|Calgary-Professio...| -114.08|   Southcentre Mall |           Calgary|2017-09-14 12:30:00| null|2nd Thursday Busi...|-114.066584|131e80a5-ca2f-45f...|    public|19217920|1684109274|Calgary Professio...|    50.97|1575912329388752899|                yes| 1203397|       0|        AB| 50.95054|          ca|        Simron Kaur|    119489692|2017-09-14|\n",
      "|gttlpmywlbwb|Armadillo-Authors...| -112.03|     Armadillo Grill|           Phoenix|2017-08-17 21:00:00| null|    Writing Workshop| -112.04088|4eeec769-4cf3-474...|    public|22315031|1682852647|Armadillo Authors...|     33.5|1575912329388752900|                yes|25042802|       0|        AZ|33.509563|          us|              Sammi|    231563662|2017-08-17|\n",
      "|   242594462|Long-Island-Socia...|  -73.37|           Glen Cove|Huntington Station|2017-08-24 19:00:00| null|Long Island Co-Ed...| -73.634369|7f4292aa-82db-4eb...|    public| 6819452|1684109276|Long Island Socia...|    40.82|1575912329388752901|                 no| 3981112|       0|        NY|40.862598|          us|          Jan Robin|    186881072|2017-08-24|\n",
      "|txxvtmywlbvb|  speakerswithspirit| -122.68|King's Way Christ...|         Vancouver|2017-08-16 20:30:00| null|\"\"\"Speakers With ...|-122.637459|7c9ae8b3-d40a-458...|    public|22912426|1684109278|\"\"\"Speakers With ...|Wa 98665\"|              45.64|1575912329388752902|     yes|23251852|         0|       WA|   45.678757|                 us|Sharon Simrin|2017-08-16|\n",
      "|   241725651|Right-Path-Real-E...|  -95.22|Right Path Real E...|           Houston|2017-08-17 18:00:00| null|How to get One-Mi...| -95.585182|e95a80c5-c6a5-407...|    public|21208859|1684109283|Right Path Real E...|    29.72|1575912329388752903|                yes|25222893|       0|        TX|29.783484|          us|    Vera Homes, LLC|    225372901|2017-08-17|\n",
      "|rhdgmnywlbdc|     New-Orleans-RPG|  -90.08|Flora Gallery & C...|       New Orleans|2017-08-22 17:00:00| null|Meet and Greet fo...| -90.051361|b9d28c67-90fd-4fe...|    public|20732407|1684109288|     New Orleans RPG|    29.96|1575912329389801472|                yes| 4404482|       0|        LA|29.964764|          us|      Derek Sanders|    212674037|2017-08-22|\n",
      "|   242428250|    Libertarian-Mind|  -79.45|             Rivoli |        North York|2017-08-19 17:00:00| null|              Rivoli| -79.394821|c633b598-b895-43e...|    public|25399886|1684109279|BBW Social Scene ...|    43.78|1575912329389801473|                yes|25418974|       0|        ON| 43.64917|          ca|               Nola|    191009000|2017-08-19|\n",
      "|rnnhvmywlbdc|RosicruciansNewMe...| -106.58|Rosicrucian Learn...|       Albuquerque|2017-08-22 19:00:00| null|          Book Study|-106.569084|f1662988-10fc-470...|    public| 4494842|1684109292|Rosicrucians in N...|    35.11|1575912329389801474|                yes|12816422|       0|        NM|35.095074|          us|     Wriley Burnett|     61569202|2017-08-22|\n",
      "|bhclgnywlbcc|  Sing-choral-rep-SF| -122.44|The Episcopal Chu...|     San Francisco|2017-08-21 21:00:00| null|Sing solo in fron...|-122.437393|b4767e6b-8c8c-442...|    public|20031122|1684109281|  Sing choral rep SF|    37.77|1575912329389801475|                yes|25128279|       0|        CA|37.796707|          us|Maria Metcalf Meyer|    206417937|2017-08-21|\n",
      "|   242591201|    Wave-Of-Wellness|  -81.17|Wave Of Wellness:...|           Orlando|2017-09-22 16:00:00| null|LMJ Paddlefest We...| -81.175064|fa13a3e7-c756-496...|    public| 1726579|1684109295|    Wave of Wellness|     28.4|1575912329389801476|                yes| 8240122|       0|        FL|28.364624|          us|        Anita Allen|     53576672|2017-09-22|\n",
      "|dcvglmywmblb|Humanist-Society-...| -111.84|Humanist Communit...|              Mesa|2017-09-08 21:00:00| null|Humanities Projec...|-111.844849|42591ede-2edb-47e...|    public| 1665831|1684109294|Humanist Society ...|    33.43|1575912329389801477|                yes|12484772|       0|        AZ|33.429291|          us|   Zenaido Quintana|     12004072|2017-09-08|\n",
      "|rnnhvmywlbdc|RosicruciansNewMe...| -106.58|Rosicrucian Learn...|       Albuquerque|2017-08-22 19:00:00| null|          Book Study|-106.569084|62ecaf18-34b1-455...|    public| 4494842|1684109292|Rosicrucians in N...|    35.11|1575912329389801478|                yes|12816422|       0|        NM|35.095074|          us|     Wriley Burnett|     61569202|2017-08-22|\n",
      "|   242260010|Connecticut-Perso...|  -72.93|Plainville Public...|           Bristol|2017-08-16 17:30:00| null|Tracom Social Sty...| -72.865486|36d01fea-96d7-404...|    public|21768706|1684109309|Connecticut Perso...|    41.68|1575912329389801479|                yes|25110189|       0|        CT| 41.67128|          us|      Jon Juraschka|    104492292|2017-08-16|\n",
      "|   241801696|HikingAroundBalti...|  -76.61| Patapsco State Park|         Baltimore|2017-08-23 17:30:00| null|Patapsco State Pa...| -76.718961|50451bea-73df-4e3...|    public| 1330116|1684109311|Hiking  Around Ba...|    39.33|1575912329389801480|                yes| 1435163|       0|        MD|39.244536|          us|       Carlo Operio|    231514877|2017-08-23|\n",
      "|   242457091|NYC-Machine-Learning|  -73.99|             Spotify|          New York|2017-08-17 18:00:00| null|Using Machine Lea...| -73.993233|ac880d4c-6b57-43b...|    public| 1516886|1684109260|NYC Machine Learning|    40.73|1575912329389801481|                yes|23022142|       0|        NY|40.739159|          us|             Lyndon|     11990493|2017-08-17|\n",
      "|   242176549|Cycling-Southern-...| -113.51|I-15 Exit 13 roun...|        Washington|2017-08-17 08:00:00| null|    Zion Canyon Ride|        0.0|24580758-8e72-42c...|    public|19097885|1683842010|Cycling  Southern...|    37.13|1575912329389801482|                yes|25335145|       1|        UT|      0.0|          us|         Ron Carter|     82074232|2017-08-17|\n",
      "+------------+--------------------+--------+--------------------+------------------+-------------------+-----+--------------------+-----------+--------------------+----------+--------+----------+--------------------+---------+-------------------+-------------------+--------+--------+----------+---------+------------+-------------------+-------------+----------+\n",
      "only showing top 20 rows\n",
      "\n"
     ]
    }
   ],
   "source": [
    "df.show()"
   ]
  },
  {
   "cell_type": "markdown",
   "metadata": {
    "cell_style": "center",
    "extensions": {
     "jupyter_dashboards": {
      "version": 1,
      "views": {
       "grid_default": {
        "col": 8,
        "height": 4,
        "hidden": false,
        "row": 82,
        "width": 4
       },
       "report_default": {
        "hidden": false
       }
      }
     }
    }
   },
   "source": [
    "<br>\n",
    "### Most Frequent Events"
   ]
  },
  {
   "cell_type": "code",
   "execution_count": 36,
   "metadata": {
    "code_folding": [
     12
    ],
    "extensions": {
     "jupyter_dashboards": {
      "version": 1,
      "views": {
       "grid_default": {
        "col": 8,
        "height": 10,
        "hidden": false,
        "row": 86,
        "width": 4
       },
       "report_default": {
        "hidden": false
       }
      }
     }
    }
   },
   "outputs": [
    {
     "name": "stdout",
     "output_type": "stream",
     "text": [
      "Requirement already satisfied: wordcloud in /home/kaushikamaravadi/anaconda3/lib/python3.6/site-packages\n",
      "Requirement already satisfied: numpy>=1.6.1 in /home/kaushikamaravadi/anaconda3/lib/python3.6/site-packages (from wordcloud)\n",
      "Requirement already satisfied: pillow in /home/kaushikamaravadi/anaconda3/lib/python3.6/site-packages (from wordcloud)\n",
      "Requirement already satisfied: matplotlib in /home/kaushikamaravadi/anaconda3/lib/python3.6/site-packages (from wordcloud)\n",
      "Requirement already satisfied: olefile in /home/kaushikamaravadi/anaconda3/lib/python3.6/site-packages (from pillow->wordcloud)\n",
      "Requirement already satisfied: six>=1.10 in /home/kaushikamaravadi/anaconda3/lib/python3.6/site-packages (from matplotlib->wordcloud)\n",
      "Requirement already satisfied: python-dateutil in /home/kaushikamaravadi/anaconda3/lib/python3.6/site-packages (from matplotlib->wordcloud)\n",
      "Requirement already satisfied: pytz in /home/kaushikamaravadi/anaconda3/lib/python3.6/site-packages (from matplotlib->wordcloud)\n",
      "Requirement already satisfied: cycler>=0.10 in /home/kaushikamaravadi/anaconda3/lib/python3.6/site-packages (from matplotlib->wordcloud)\n",
      "Requirement already satisfied: pyparsing!=2.0.4,!=2.1.2,!=2.1.6,>=1.5.6 in /home/kaushikamaravadi/anaconda3/lib/python3.6/site-packages (from matplotlib->wordcloud)\n",
      "<wordcloud.wordcloud.WordCloud object at 0x7f258491cac8>\n"
     ]
    },
    {
     "data": {
      "image/png": "[encoded data removed]",
      "text/plain": [
       "<matplotlib.figure.Figure at 0x7f256980df98>"
      ]
     },
     "metadata": {},
     "output_type": "display_data"
    }
   ],
   "source": [
    "! pip install wordcloud\n",
    "import matplotlib.pyplot as plt\n",
    "word_cloud = df.filter(df.eventname != 'None').select(\"eventname\")\n",
    "\n",
    "word_cloud_pandas = word_cloud.toPandas()\n",
    "plt.rcParams['figure.figsize']=(12.0,15.0)    \n",
    "plt.rcParams['font.size']=12                 \n",
    "plt.rcParams['savefig.dpi']=100              \n",
    "plt.rcParams['figure.subplot.bottom']=.1 \n",
    "\n",
    "\n",
    "stopwords = set(STOPWORDS)\n",
    "wordcloud = WordCloud(\n",
    "                          background_color='black',\n",
    "                          stopwords=stopwords,\n",
    "                          max_words=100,\n",
    "                          random_state=4\n",
    "                         ).generate(str(word_cloud_pandas['eventname']))\n",
    "\n",
    "print(wordcloud)\n",
    "fig = plt.figure(1)\n",
    "plt.imshow(wordcloud, interpolation=\"bilinear\")\n",
    "plt.axis('off')\n",
    "plt.show();"
   ]
  },
  {
   "cell_type": "markdown",
   "metadata": {
    "extensions": {
     "jupyter_dashboards": {
      "version": 1,
      "views": {
       "grid_default": {
        "col": 8,
        "height": 4,
        "hidden": false,
        "row": 96,
        "width": 4
       },
       "report_default": {
        "hidden": false
       }
      }
     }
    }
   },
   "source": [
    "<br>\n",
    "\n",
    "### Most Responses per state"
   ]
  },
  {
   "cell_type": "code",
   "execution_count": 29,
   "metadata": {
    "code_folding": [],
    "extensions": {
     "jupyter_dashboards": {
      "version": 1,
      "views": {
       "grid_default": {
        "col": 8,
        "height": 19,
        "hidden": false,
        "row": 100,
        "width": 4
       },
       "report_default": {
        "hidden": false
       }
      }
     }
    }
   },
   "outputs": [
    {
     "name": "stdout",
     "output_type": "stream",
     "text": [
      "+----------+---------------+\n",
      "|groupstate|count(response)|\n",
      "+----------+---------------+\n",
      "|        CA|           1847|\n",
      "|        NY|            908|\n",
      "|        TX|            620|\n",
      "|        FL|            550|\n",
      "|        CO|            477|\n",
      "|        ON|            437|\n",
      "|        IL|            374|\n",
      "|        PA|            350|\n",
      "|        NC|            331|\n",
      "|        GA|            323|\n",
      "|        VA|            301|\n",
      "|        MA|            265|\n",
      "|        WA|            257|\n",
      "|        DC|            247|\n",
      "|        OR|            227|\n",
      "|        AZ|            216|\n",
      "|        OH|            210|\n",
      "|        NJ|            189|\n",
      "|        BC|            174|\n",
      "|        MN|            151|\n",
      "+----------+---------------+\n",
      "only showing top 20 rows\n",
      "\n"
     ]
    }
   ],
   "source": [
    "most_responses = df.filter(df.groupstate != 'null').groupby(\"groupstate\").agg({\"response\":\"count\"})\\\n",
    ".orderBy(\"count(response)\",ascending=False)\n",
    "most_responses.show()"
   ]
  },
  {
   "cell_type": "markdown",
   "metadata": {
    "extensions": {
     "jupyter_dashboards": {
      "version": 1,
      "views": {
       "grid_default": {
        "col": 4,
        "height": 4,
        "hidden": false,
        "row": 108,
        "width": 4
       },
       "report_default": {
        "hidden": false
       }
      }
     }
    }
   },
   "source": [
    "<br>\n",
    "<br>\n",
    "\n",
    "### Most Responses per City"
   ]
  },
  {
   "cell_type": "code",
   "execution_count": 30,
   "metadata": {
    "code_folding": [],
    "extensions": {
     "jupyter_dashboards": {
      "version": 1,
      "views": {
       "grid_default": {
        "col": 4,
        "height": 19,
        "hidden": false,
        "row": 112,
        "width": 4
       },
       "report_default": {
        "hidden": false
       }
      }
     }
    }
   },
   "outputs": [
    {
     "name": "stdout",
     "output_type": "stream",
     "text": [
      "+------------+---------+-----+\n",
      "|   groupcity| memberid|count|\n",
      "+------------+---------+-----+\n",
      "|     Atlanta|  9014062|   43|\n",
      "|    New York|  8516444|   26|\n",
      "| Morrisville|189073790|   22|\n",
      "|     Toronto|  4824584|   14|\n",
      "|     Raleigh| 84713982|   14|\n",
      "|  Sacramento|139633032|   14|\n",
      "|      Novato| 59754472|   13|\n",
      "|   Las Vegas| 63187852|   12|\n",
      "|    New York| 56359272|   12|\n",
      "|   San Diego| 12634468|   11|\n",
      "|      Durham|137080172|   11|\n",
      "|     Toronto|105554052|    9|\n",
      "|    San Jose| 66798272|    9|\n",
      "|    Columbus| 11098921|    9|\n",
      "|   San Diego|    31551|    8|\n",
      "|Auburn Hills|232003294|    8|\n",
      "|  Mount Dora| 74618122|    8|\n",
      "|      Denver| 57059682|    8|\n",
      "|     Raleigh|233524541|    8|\n",
      "|       Media|230518046|    8|\n",
      "+------------+---------+-----+\n",
      "only showing top 20 rows\n",
      "\n"
     ]
    }
   ],
   "source": [
    "resp_city = df.groupby([\"groupcity\",\"memberid\"]).\\\n",
    "            count().orderBy(\"count\",ascending=False)\n",
    "\n",
    "resp_city.show()"
   ]
  },
  {
   "cell_type": "markdown",
   "metadata": {
    "collapsed": true,
    "extensions": {
     "jupyter_dashboards": {
      "version": 1,
      "views": {
       "grid_default": {
        "col": 8,
        "height": 4,
        "hidden": false,
        "row": 119,
        "width": 4
       },
       "report_default": {
        "hidden": false
       }
      }
     }
    }
   },
   "source": [
    "<br>\n",
    "<br>\n",
    "<br>\n",
    "\n",
    "### Yes vs No"
   ]
  },
  {
   "cell_type": "code",
   "execution_count": 40,
   "metadata": {
    "code_folding": [],
    "extensions": {
     "jupyter_dashboards": {
      "version": 1,
      "views": {
       "grid_default": {
        "col": 8,
        "height": 19,
        "hidden": false,
        "row": 123,
        "width": 4
       },
       "report_default": {
        "hidden": true
       }
      }
     }
    }
   },
   "outputs": [
    {
     "name": "stdout",
     "output_type": "stream",
     "text": [
      "Yes Count:  4150 \n",
      " No Count: 1877\n"
     ]
    }
   ],
   "source": [
    "yes_response = df.groupby(df['eventname'],df['response']).count().orderBy(\"count\",ascending=False)\n",
    "yes = yes_response.filter(yes_response.response == 'yes').count()\n",
    "no_response = df.groupby(df['eventname'],df['response']).count().orderBy(\"count\",ascending=False)\n",
    "no = no_response.filter(no_response.response == 'no').count()\n",
    "\n",
    "print(\"Yes Count: \",yes,\"\\n\",\"No Count:\",no)"
   ]
  },
  {
   "cell_type": "markdown",
   "metadata": {},
   "source": [
    "<br>\n",
    "<br>\n",
    "<br>\n",
    "\n",
    "### Most Number of Events "
   ]
  },
  {
   "cell_type": "code",
   "execution_count": 32,
   "metadata": {
    "code_folding": [],
    "extensions": {
     "jupyter_dashboards": {
      "version": 1,
      "views": {
       "grid_default": {
        "col": 4,
        "height": 19,
        "hidden": false,
        "row": 131,
        "width": 4
       },
       "report_default": {
        "hidden": false
       }
      }
     }
    }
   },
   "outputs": [
    {
     "name": "stdout",
     "output_type": "stream",
     "text": [
      "+--------------------+--------+\n",
      "|           eventname|count(1)|\n",
      "+--------------------+--------+\n",
      "| Business Networking|      45|\n",
      "|Monday Dinner and...|      31|\n",
      "|LAToken Blockchai...|      29|\n",
      "|Join us for our F...|      25|\n",
      "|The North Pennsme...|      24|\n",
      "|   Super Meetup 2017|      22|\n",
      "|Using Machine Lea...|      21|\n",
      "|We're Not Dead ye...|      20|\n",
      "|The Dancer's Work...|      20|\n",
      "|Scaling Deep Lear...|      20|\n",
      "|Labor Day weekend...|      20|\n",
      "|Let's Discuss: Ho...|      19|\n",
      "|          Happy Hour|      18|\n",
      "|Ready to Resist c...|      17|\n",
      "|APIs + GraphQL + ...|      17|\n",
      "|    Object Detection|      16|\n",
      "|Board Games for G...|      16|\n",
      "|Pickup Soccer at ...|      16|\n",
      "|MOROCCO: Marrakes...|      16|\n",
      "|🇫🇷 🍷🍫French M...|      15|\n",
      "+--------------------+--------+\n",
      "only showing top 20 rows\n",
      "\n"
     ]
    }
   ],
   "source": [
    "df.createOrReplaceTempView(\"satori\")\n",
    "event_states = spark.sql(\"select eventname,count(*) from satori  \\\n",
    "where groupstate is not null group by eventname  order by count(1) desc\")\n",
    "event_states.show()"
   ]
  },
  {
   "cell_type": "markdown",
   "metadata": {
    "extensions": {
     "jupyter_dashboards": {
      "version": 1,
      "views": {
       "grid_default": {
        "hidden": true
       },
       "report_default": {
        "hidden": false
       }
      }
     }
    }
   },
   "source": [
    "<br>\n",
    "<br>\n",
    "<br>\n",
    "\n",
    "### Number of memebers who attended the meetup"
   ]
  },
  {
   "cell_type": "code",
   "execution_count": 33,
   "metadata": {
    "code_folding": [],
    "extensions": {
     "jupyter_dashboards": {
      "version": 1,
      "views": {
       "grid_default": {
        "col": 0,
        "height": 19,
        "hidden": false,
        "row": 136,
        "width": 4
       },
       "report_default": {
        "hidden": false
       }
      }
     }
    }
   },
   "outputs": [
    {
     "name": "stdout",
     "output_type": "stream",
     "text": [
      "+----------+---------+-----+\n",
      "|groupstate| memberid|count|\n",
      "+----------+---------+-----+\n",
      "|        GA|  9014062|   43|\n",
      "|        NY|  8516444|   26|\n",
      "|        PA|189073790|   22|\n",
      "|        FL|  2889550|   16|\n",
      "|        CA|139633032|   14|\n",
      "|        ON|  4824584|   14|\n",
      "|        NC| 84713982|   14|\n",
      "|        CA| 59754472|   13|\n",
      "|        ON|105554052|   13|\n",
      "|        FL|224134430|   13|\n",
      "|        NY| 56359272|   12|\n",
      "|        NV| 63187852|   12|\n",
      "|        NC|137080172|   11|\n",
      "|        CA| 12634468|   11|\n",
      "|        CO| 57059682|    9|\n",
      "|        CA|    31551|    9|\n",
      "|        CA| 66798272|    9|\n",
      "|        OH| 11098921|    9|\n",
      "|        PA|230518046|    8|\n",
      "|        MI|232003294|    8|\n",
      "+----------+---------+-----+\n",
      "only showing top 20 rows\n",
      "\n"
     ]
    }
   ],
   "source": [
    "\n",
    "res = df.filter(df.groupstate != 'None').groupby([\"groupstate\",\"memberid\"]).count().orderBy(\"count\",ascending=False)\n",
    "res.show()"
   ]
  },
  {
   "cell_type": "markdown",
   "metadata": {
    "collapsed": true
   },
   "source": [
    "### RDBMS"
   ]
  },
  {
   "cell_type": "code",
   "execution_count": 41,
   "metadata": {},
   "outputs": [],
   "source": [
    "jdbc_tblemployees = spark.read \\\n",
    "    .format(\"jdbc\") \\\n",
    "    .option(\"url\", \"jdbc:mysql://localhost:3306/dbo\") \\\n",
    "    .option(\"dbtable\", \"tblemployees\") \\\n",
    "    .option(\"user\", \"username\") \\\n",
    "    .option(\"password\", \"password\") \\\n",
    "    .option(\"driver\",\"com.mysql.jdbc.Driver\") \\\n",
    "    .load()"
   ]
  },
  {
   "cell_type": "code",
   "execution_count": null,
   "metadata": {},
   "outputs": [],
   "source": [
    "jdbc_tblemployees.printSchema()"
   ]
  },
  {
   "cell_type": "code",
   "execution_count": null,
   "metadata": {},
   "outputs": [],
   "source": [
    "jdbc_tblpayemployeeparamdetails = spark.read \\\n",
    "    .format(\"jdbc\") \\\n",
    "    .option(\"url\", \"jdbc:mysql://localhost:3306/dbo\") \\\n",
    "    .option(\"dbtable\", \"tblpayemployeeparamdetails\") \\\n",
    "    .option(\"user\", \"username\") \\\n",
    "    .option(\"password\", \"password\") \\\n",
    "    .option(\"driver\",\"com.mysql.jdbc.Driver\") \\\n",
    "    .load()"
   ]
  },
  {
   "cell_type": "code",
   "execution_count": null,
   "metadata": {},
   "outputs": [],
   "source": [
    "jdbc_tblpayemployeeparamdetails.printSchema()"
   ]
  },
  {
   "cell_type": "code",
   "execution_count": null,
   "metadata": {},
   "outputs": [],
   "source": [
    "joined_df = jdbc_tblemployees.join(jdbc_tblpayemployeeparamdetails,\\\n",
    "                                   jdbc_tblemployees['EmployeeNumber'] == jdbc_tblpayemployeeparamdetails['EmployeeNumber'],\"inner\").\\\n",
    "                                   drop(jdbc_tblemployees['EmployeeNumber'])\n",
    "joined_df.count()"
   ]
  },
  {
   "cell_type": "code",
   "execution_count": null,
   "metadata": {},
   "outputs": [],
   "source": [
    "outer_join = jdbc_tblpayemployeeparamdetails.join(jdbc_tblemployees, jdbc_tblemployees['EmployeeNumber'] == jdbc_tblpayemployeeparamdetails['EmployeeNumber'],'leftsemi').\\\n",
    "             drop(jdbc_tblemployees['Employeenumber'])\n",
    "outer_join.count()"
   ]
  },
  {
   "cell_type": "code",
   "execution_count": null,
   "metadata": {},
   "outputs": [],
   "source": [
    "average_sal = joined_df.groupBy(\"DepartmentCode\").agg({'Amount':\"mean\"}).orderBy(\"avg(Amount)\",ascending=False).show()"
   ]
  },
  {
   "cell_type": "code",
   "execution_count": null,
   "metadata": {},
   "outputs": [],
   "source": [
    "average_sal = outer_join.groupby(\"EmployeeNumber\").agg({'Amount':\"mean\"}).orderBy(\"avg(Amount)\",ascending=False).show()\n",
    "average_sal"
   ]
  },
  {
   "cell_type": "code",
   "execution_count": null,
   "metadata": {},
   "outputs": [],
   "source": [
    "joined_df.createOrReplaceTempView(\"table\")"
   ]
  },
  {
   "cell_type": "code",
   "execution_count": null,
   "metadata": {},
   "outputs": [],
   "source": [
    "spark.sql(\"select EmployeeNumber, avg(Amount) as avg from table group by EmployeeNumber,Amount order by avg desc \").show()"
   ]
  },
  {
   "cell_type": "code",
   "execution_count": null,
   "metadata": {},
   "outputs": [],
   "source": [
    "spark.sql(\"select LocationType, Sex, count(*) as count from table where Sex is not null group by LocationType,Sex order by count desc\").show()"
   ]
  },
  {
   "cell_type": "code",
   "execution_count": null,
   "metadata": {},
   "outputs": [],
   "source": [
    "ssc = StreamingContext(sc, 1)"
   ]
  },
  {
   "cell_type": "code",
   "execution_count": null,
   "metadata": {},
   "outputs": [],
   "source": [
    "lines = ssc.textFileStream(\"$PATH/README.md\")\n",
    "counts = lines.flatMap(lambda line: line.split(\" \"))\\\n",
    "                  .map(lambda x: (x, 1))\\\n",
    "                  .reduceByKey(lambda a, b: a+b)\n",
    "counts.pprint()\n",
    "counts.saveAsTextFiles(\"$PATH/output.txt\")\n",
    "ssc.start()\n",
    "ssc.awaitTermination(10)\n",
    "ssc.stop()"
   ]
  },
  {
   "cell_type": "code",
   "execution_count": null,
   "metadata": {},
   "outputs": [],
   "source": [
    "ssc.stop()"
   ]
  },
  {
   "cell_type": "code",
   "execution_count": null,
   "metadata": {},
   "outputs": [],
   "source": []
  }
 ],
 "metadata": {
  "extensions": {
   "jupyter_dashboards": {
    "activeView": "grid_default",
    "version": 1,
    "views": {
     "grid_default": {
      "cellMargin": 10,
      "defaultCellHeight": 20,
      "maxColumns": 12,
      "name": "grid",
      "type": "grid"
     },
     "report_default": {
      "name": "report",
      "type": "report"
     }
    }
   }
  },
  "kernelspec": {
   "display_name": "Python 3",
   "language": "python",
   "name": "python3"
  },
  "language_info": {
   "codemirror_mode": {
    "name": "ipython",
    "version": 3
   },
   "file_extension": ".py",
   "mimetype": "text/x-python",
   "name": "python",
   "nbconvert_exporter": "python",
   "pygments_lexer": "ipython3",
   "version": "3.6.2"
  }
 },
 "nbformat": 4,
 "nbformat_minor": 2
}
